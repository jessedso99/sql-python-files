{
  "nbformat": 4,
  "nbformat_minor": 0,
  "metadata": {
    "colab": {
      "provenance": [],
      "include_colab_link": true
    },
    "kernelspec": {
      "name": "python3",
      "display_name": "Python 3"
    },
    "language_info": {
      "name": "python"
    }
  },
  "cells": [
    {
      "cell_type": "markdown",
      "metadata": {
        "id": "view-in-github",
        "colab_type": "text"
      },
      "source": [
        "<a href=\"https://colab.research.google.com/github/jessedso99/sql-python-files/blob/main/Termoestat%C3%ADstica.ipynb\" target=\"_parent\"><img src=\"https://colab.research.google.com/assets/colab-badge.svg\" alt=\"Open In Colab\"/></a>"
      ]
    },
    {
      "cell_type": "code",
      "execution_count": null,
      "metadata": {
        "id": "r6ENloA6NIw7"
      },
      "outputs": [],
      "source": [
        "import pandas as pd\n",
        "import numpy as np\n",
        "import matplotlib.pyplot as plt\n",
        "import statistics as stats\n",
        "from numpy.core.fromnumeric import mean"
      ]
    },
    {
      "cell_type": "code",
      "source": [
        "# qntQq1 = int(input(\"Digite a qnt de ÁTOMOS de Q1: \"))\n",
        "# qntQq2 = int(input(\"Digite a qnt de ÁTOMOS de Q2: \"))\n",
        "# qntQtotal = int(qntQq1+qntQq2)\n",
        "\n",
        "#resetar os dados de q1 e q2 e obter um qtotal\n",
        "qntQq1 = int(0)\n",
        "qntQq2 = int(0)\n",
        "\n",
        "qntQtotal = int(input(\"Digite a quantidade total de QUANTAS: \"))\n",
        "\n",
        "qntOsc1 = int(input(\"Digite a qnt de OSCILADORES de Q1: \"))\n",
        "qntOsc2 = int(input(\"Digite a qnt de OSCILADORES de Q2: \"))\n",
        "qntOscTotal = qntOsc1+qntOsc2\n",
        "\n",
        "#através dos números de osciladores, distribuir q1 e q2\n",
        "qntQq1 = qntQtotal/((qntOsc2/qntOsc1)+1)\n",
        "qntQq2 = qntQtotal - qntQq1\n",
        "\n",
        "qTotal = float(np.math.factorial(qntQtotal+ qntOscTotal- 1)/(np.math.factorial(qntQtotal)*np.math.factorial(qntOscTotal-1)))"
      ],
      "metadata": {
        "colab": {
          "base_uri": "https://localhost:8080/"
        },
        "id": "VIge5lvAWH7Z",
        "outputId": "c4de70c6-2581-49fb-dbb5-3bd8f4038002"
      },
      "execution_count": null,
      "outputs": [
        {
          "name": "stdout",
          "output_type": "stream",
          "text": [
            "Digite a quantidade total de QUANTAS: 4\n",
            "Digite a qnt de OSCILADORES de Q1: 3\n",
            "Digite a qnt de OSCILADORES de Q2: 3\n"
          ]
        }
      ]
    },
    {
      "cell_type": "code",
      "source": [
        "q1 = []\n",
        "q2 = []\n",
        "omega1 = []\n",
        "omega2 = []\n",
        "omega0 = []\n",
        "\n",
        "for n in range(0, qntQtotal+1):\n",
        "  q1.append(n)\n",
        "\n",
        "for n in range(qntQtotal, -1, -1):\n",
        "  q2.append(n)\n",
        "\n",
        "for n in range(0, len(q1)):\n",
        "  omega1.append(int(np.math.factorial((q1[n])+ qntOsc1- 1)/(np.math.factorial((q1[n]))*np.math.factorial(qntOsc1-1))))\n",
        "\n",
        "for n in range(0, len(q2)):\n",
        "  omega2.append(int(np.math.factorial((q2[n])+ qntOsc2- 1)/(np.math.factorial((q2[n]))*np.math.factorial(qntOsc2-1))))\n",
        "\n",
        "for n in range(0, len(q1)):\n",
        "  omega0.append(omega1[n]*omega2[n])\n"
      ],
      "metadata": {
        "id": "O2wfqXePWXJ-"
      },
      "execution_count": null,
      "outputs": []
    },
    {
      "cell_type": "code",
      "source": [
        "dados = {\"q1\": q1, \"q2\": q2, \"Ω1\": omega1, \"Ω2\": omega2, \"Ω\": omega0}\n",
        "dfDados = pd.DataFrame(dados)\n",
        "print(dfDados)"
      ],
      "metadata": {
        "colab": {
          "base_uri": "https://localhost:8080/"
        },
        "id": "qd0CLnb5WWYe",
        "outputId": "92a56ded-6bd1-4458-e77b-170837788c16"
      },
      "execution_count": null,
      "outputs": [
        {
          "output_type": "stream",
          "name": "stdout",
          "text": [
            "   q1  q2  Ω1  Ω2   Ω\n",
            "0   0   4   1  15  15\n",
            "1   1   3   3  10  30\n",
            "2   2   2   6   6  36\n",
            "3   3   1  10   3  30\n",
            "4   4   0  15   1  15\n"
          ]
        }
      ]
    },
    {
      "cell_type": "code",
      "source": [
        "#dfDados[\"Ω\"].plot.bar();\n",
        "#plt.title(\"Número de microestados por quantas q1\");\n",
        "#plt.xlabel(\"q1\");\n",
        "#plt.ylabel(\"Ω = Ω1*Ω2\");\n",
        "\n",
        "plt.title(\"Número de microestados por quantas q1\")\n",
        "plt.xlabel(\"q1\");\n",
        "plt.ylabel(\"Ω = Ω1*Ω2\");\n",
        "plt.bar(q1, omega0)\n",
        "plt.show()\n"
      ],
      "metadata": {
        "colab": {
          "base_uri": "https://localhost:8080/",
          "height": 295
        },
        "id": "DinTZ0zuIEPN",
        "outputId": "27962028-e497-47b1-a61f-2f838fbe8740"
      },
      "execution_count": null,
      "outputs": [
        {
          "output_type": "display_data",
          "data": {
            "text/plain": [
              "<Figure size 432x288 with 1 Axes>"
            ],
            "image/png": "[encoded data removed]"
          },
          "metadata": {
            "needs_background": "light"
          }
        }
      ]
    },
    {
      "cell_type": "code",
      "source": [
        "#qTotal\n",
        "omega0_qTotal = []\n",
        "\n",
        "for n in range(0, len(q1)):\n",
        "  omega0_qTotal.append(omega0[n]/qTotal)"
      ],
      "metadata": {
        "id": "e3lPJGmjWpiJ"
      },
      "execution_count": null,
      "outputs": []
    },
    {
      "cell_type": "code",
      "source": [
        "#anlises statisc\n",
        "Qtotal = {\"q1\": q1, \"q2\": q2, \"Ω1*Ω2/Qtotal\": omega0_qTotal}\n",
        "dfQtotal = pd.DataFrame(Qtotal)\n",
        "\n",
        "dfLarg = dfQtotal[[\"q1\", \"Ω1*Ω2/Qtotal\"]].loc[(dfQtotal[\"Ω1*Ω2/Qtotal\"] >= max(omega0_qTotal)/2)]\n",
        "\n",
        "larg = max(dfLarg[\"q1\"]) - min(dfLarg[\"q1\"])"
      ],
      "metadata": {
        "id": "7f9cdiDKbsn4"
      },
      "execution_count": null,
      "outputs": []
    },
    {
      "cell_type": "code",
      "source": [
        "plt.title(\"Probabilidade por quantas q1\");\n",
        "plt.xlabel(\"q1\");\n",
        "plt.ylabel(\"Ω1*Ω2/Qtotal\");\n",
        "plt.bar(q1, omega0_qTotal)\n",
        "\n",
        "#plot reta média, valor mais provavel\n",
        "\n",
        "plt.axvline(x = np.argmax(omega0_qTotal), color = 'r', label = 'axvline - full height')\n",
        "analis = larg / np.argmax(omega0_qTotal)\n",
        "\n",
        "def get_sub(x): \n",
        "    normal = \"ABCDEFGHIJKLMNOPQRSTUVWXYZabcdefghijklmnopqrstuvwxyz0123456789+-=()\"\n",
        "    super_s = \"ᴬᴮᶜᴰᴱᶠᴳᴴᴵᴶᴷᴸᴹᴺᴼᴾQᴿˢᵀᵁⱽᵂˣʸᶻᵃᵇᶜᵈᵉᶠᵍʰᶦʲᵏˡᵐⁿᵒᵖ۹ʳˢᵗᵘᵛʷˣʸᶻ⁰¹²³⁴⁵⁶⁷⁸⁹⁺⁻⁼⁽⁾\"\n",
        "    sub_s = \"ₐ₈CDₑբGₕᵢⱼₖₗₘₙₒₚQᵣₛₜᵤᵥwₓᵧZₐ♭꜀ᑯₑբ₉ₕᵢⱼₖₗₘₙₒₚ૧ᵣₛₜᵤᵥwₓᵧ₂₀₁₂₃₄₅₆₇₈₉₊₋₌₍₎\"\n",
        "    res = x.maketrans(''.join(normal), ''.join(sub_s), ''.join(super_s)) \n",
        "    return x.translate(res) \n",
        "\n",
        "plt.text(min(q1)-0.1*max(q1), (23*max(omega0_qTotal)/25), \"\\u0394q{}/<q{}>: \".format(get_sub('1'),get_sub('1'))+str(analis))\n",
        "\n",
        "plt.annotate(\"<q{}> = \".format(get_sub('1'))+str(np.argmax(omega0_qTotal)), \n",
        "           xytext=(np.argmax(omega0_qTotal)+0.5*np.argmax(omega0_qTotal), max(omega0_qTotal)+0.001*max(omega0_qTotal)),\n",
        "           xycoords='data',\n",
        "           xy=(np.argmax(omega0_qTotal), max(omega0_qTotal)-0.1*max(omega0_qTotal)),\n",
        "           textcoords='data',\n",
        "           arrowprops=dict(arrowstyle=\"->\",connectionstyle=\"arc3\"))\n",
        "plt.show()\n"
      ],
      "metadata": {
        "colab": {
          "base_uri": "https://localhost:8080/",
          "height": 295
        },
        "id": "JaDQ42aqkb1I",
        "outputId": "a101407f-bd73-493c-e67b-a9813931b64f"
      },
      "execution_count": null,
      "outputs": [
        {
          "output_type": "display_data",
          "data": {
            "text/plain": [
              "<Figure size 432x288 with 1 Axes>"
            ],
            "image/png": "[encoded data removed]"
          },
          "metadata": {
            "needs_background": "light"
          }
        }
      ]
    }
  ]
}